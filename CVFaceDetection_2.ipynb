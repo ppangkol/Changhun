{
 "cells": [
  {
   "cell_type": "code",
   "execution_count": 1,
   "metadata": {
    "collapsed": true
   },
   "outputs": [
    {
     "name": "stdout",
     "output_type": "stream",
     "text": [
      "2177369273When drinking French wine for the first time! Funny video.mp4 타임랩스 생성 시작\n",
      "2177369273When drinking French wine for the first time! Funny video.mp4 타임랩스 생성 완료\n",
      "2256005888발렌타인30에 셰리와인을 넣으면 기가막힌 풍미의 위스키가.mp4 타임랩스 생성 시작\n",
      "2256005888발렌타인30에 셰리와인을 넣으면 기가막힌 풍미의 위스키가.mp4 타임랩스 생성 완료\n",
      "2860869049뭔가 잘못되어가는 듯한 와인 시장 shorts.mp4 타임랩스 생성 시작\n",
      "2860869049뭔가 잘못되어가는 듯한 와인 시장 shorts.mp4 타임랩스 생성 완료\n",
      "293455124410월에 어떤 와인 좋아하세요 와모 인기와인 추천 ft선물혼술모임.mp4 타임랩스 생성 시작\n",
      "293455124410월에 어떤 와인 좋아하세요 와모 인기와인 추천 ft선물혼술모임.mp4 타임랩스 생성 완료\n",
      "2975828220Trying my homemade apple wine.mp4 타임랩스 생성 시작\n",
      "2975828220Trying my homemade apple wine.mp4 타임랩스 생성 완료\n",
      "3038240276한 병당 1000만 원 하는 전설의 와인 Shorts.mp4 타임랩스 생성 시작\n",
      "3038240276한 병당 1000만 원 하는 전설의 와인 Shorts.mp4 타임랩스 생성 완료\n",
      "454200856요즘은 와인이 대세 l 초간단 와인 오프너 사용법 🍷 shorts.mp4 타임랩스 생성 시작\n",
      "454200856요즘은 와인이 대세 l 초간단 와인 오프너 사용법 🍷 shorts.mp4 타임랩스 생성 완료\n",
      "740207462소주병에 담긴 와인 리뷰 - 와인반병 (까베르네 쇼비뇽)  shorts 내돈내산 리뷰 와인반병 CU와인 편의점와인 혼술 와인 와인반병까쇼 추천 트렌드 무슨맛.mp4 타임랩스 생성 시작\n",
      "740207462소주병에 담긴 와인 리뷰 - 와인반병 (까베르네 쇼비뇽)  shorts 내돈내산 리뷰 와인반병 CU와인 편의점와인 혼술 와인 와인반병까쇼 추천 트렌드 무슨맛.mp4 타임랩스 생성 완료\n"
     ]
    }
   ],
   "source": [
    "import cv2\n",
    "import os\n",
    "for data in os.listdir('./data/'): # 폴더 경로 지정\n",
    "    print(data,'타임랩스 생성 시작')\n",
    "\n",
    "    #동영상 읽어오기\n",
    "    cap = cv2.VideoCapture('./data/'+data)\n",
    "    width = int(cap.get(cv2.CAP_PROP_FRAME_WIDTH))\n",
    "    height = int(cap.get(cv2.CAP_PROP_FRAME_HEIGHT))\n",
    "\n",
    "    #cascade 모델 - 사람 인식 /// 경로에 haarcascade.xml 파일이 있어야 함\n",
    "    face_cascade = cv2.CascadeClassifier('./haarcascade/haarcascade_frontalface_default.xml')\n",
    "    eye_cascade = cv2.CascadeClassifier('./haarcascade/haarcascade_eye.xml')\n",
    "\n",
    "\n",
    "    #타임랩스 작성\n",
    "    movie_name = data[:9]+'.mp4' # 저장할 타임랩스 이름\n",
    "    fourcc = cv2.VideoWriter_fourcc(*'XVID') #'X', 'V', 'I', 'D'로 써도 됨\n",
    "    video = cv2.VideoWriter(movie_name, fourcc, 30, (width, height))\n",
    "\n",
    "    num = 0\n",
    "    face_area=0 # 초기 얼굴 크기 설정\n",
    "    while(cap.isOpened()):\n",
    "        ret, frame = cap.read()\n",
    "        if ret:\n",
    "         # 영상을 프레임별로 처리(ex 3프레임)\n",
    "            if (num%3 == 0):\n",
    "                gray = cv2.cvtColor(frame, cv2.COLOR_BGR2GRAY)\n",
    "                face = face_cascade.detectMultiScale(gray, 1.2, 5,minSize=(100,100))\n",
    "                if (len(face) > 0):\n",
    "                    for (x,y,w,h) in face:\n",
    "                        cv2.rectangle(frame,(x,y),(x+w,y+h),(255,0,0),2)\n",
    "                        roi_gray = gray[y:y+h, x:x+w]\n",
    "                        roi_color = frame[y:y+h, x:x+w]\n",
    "                        eyes = eye_cascade.detectMultiScale(roi_gray)\n",
    "                        if face_area < w*h: # 얼굴 영역 크기 갱신\n",
    "                            face_area = w*h\n",
    "                        for (ex,ey,ew,eh) in eyes:\n",
    "                            cv2.rectangle(roi_color,(ex,ey),(ex+ew,ey+eh),(0,255,0),2)\n",
    "                if face_area != 0:  # 얼굴이 인식되었으면 타임랩스 저장\n",
    "                    video.write(frame)\n",
    "\n",
    "        else: break\n",
    "        num += 1\n",
    "\n",
    "    #타임랩스 종료 및 발행\n",
    "    video.release()\n",
    "    cap.release()\n",
    "    cv2.destroyAllWindows()\n",
    "    print(data,'타임랩스 생성 완료')"
   ]
  }
 ],
 "metadata": {
  "kernelspec": {
   "display_name": "Python 3",
   "language": "python",
   "name": "python3"
  },
  "language_info": {
   "codemirror_mode": {
    "name": "ipython",
    "version": 2
   },
   "file_extension": ".py",
   "mimetype": "text/x-python",
   "name": "python",
   "nbconvert_exporter": "python",
   "pygments_lexer": "ipython2",
   "version": "2.7.6"
  }
 },
 "nbformat": 4,
 "nbformat_minor": 0
}
