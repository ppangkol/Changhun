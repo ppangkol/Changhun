{
 "cells": [
  {
   "cell_type": "code",
   "execution_count": 1,
   "metadata": {
    "collapsed": true
   },
   "outputs": [
    {
     "name": "stdout",
     "output_type": "stream",
     "text": [
      "타임랩스 생성 시작\n",
      "타임랩스 생성 완료\n"
     ]
    }
   ],
   "source": [
    "import cv2\n",
    "print('타임랩스 생성 시작')\n",
    "\n",
    "#동영상 읽어오기\n",
    "cap = cv2.VideoCapture('2256005888발렌타인30에 셰리와인을 넣으면 기가막힌 풍미의 위스키가.mp4')\n",
    "width = int(cap.get(cv2.CAP_PROP_FRAME_WIDTH))\n",
    "height = int(cap.get(cv2.CAP_PROP_FRAME_HEIGHT))\n",
    "\n",
    "#cascade 모델 - 사람 인식 /// 경로에 haarcascade.xml 파일이 있어야 함\n",
    "face_cascade = cv2.CascadeClassifier('./haarcascade/haarcascade_frontalface_default.xml')\n",
    "eye_cascade = cv2.CascadeClassifier('./haarcascade/haarcascade_eye.xml')\n",
    "\n",
    "\n",
    "#타임랩스 작성\n",
    "movie_name = 'timelapse0.avi' # 저장할 타임랩스 이름\n",
    "fourcc = cv2.VideoWriter_fourcc(*'XVID') #'X', 'V', 'I', 'D'로 써도 됨\n",
    "video = cv2.VideoWriter(movie_name, fourcc, 30, (width, height))\n",
    "\n",
    "num = 0\n",
    "while(cap.isOpened()):\n",
    "    ret, frame = cap.read()\n",
    "    if ret:\n",
    "     # 영상을 프레임별로 처리(ex 3프레임)\n",
    "        if (num%3 == 0):\n",
    "            gray = cv2.cvtColor(frame, cv2.COLOR_BGR2GRAY)\n",
    "            face = face_cascade.detectMultiScale(gray, 1.2, 5,minSize=(100,100))\n",
    "            if (len(face) > 0):\n",
    "                for (x,y,w,h) in face:\n",
    "                    cv2.rectangle(frame,(x,y),(x+w,y+h),(255,0,0),2)\n",
    "                    roi_gray = gray[y:y+h, x:x+w]\n",
    "                    roi_color = frame[y:y+h, x:x+w]\n",
    "                    eyes = eye_cascade.detectMultiScale(roi_gray)\n",
    "                    for (ex,ey,ew,eh) in eyes:\n",
    "                        cv2.rectangle(roi_color,(ex,ey),(ex+ew,ey+eh),(0,255,0),2)\n",
    "            video.write(frame)\n",
    "\n",
    "    else: break\n",
    "    num += 1\n",
    "\n",
    "#타임랩스 종료 및 발행\n",
    "video.release()\n",
    "cap.release()\n",
    "cv2.destroyAllWindows()\n",
    "print('타임랩스 생성 완료')"
   ]
  },
  {
   "cell_type": "code",
   "execution_count": null,
   "outputs": [],
   "source": [],
   "metadata": {
    "collapsed": false
   }
  }
 ],
 "metadata": {
  "kernelspec": {
   "display_name": "Python 3",
   "language": "python",
   "name": "python3"
  },
  "language_info": {
   "codemirror_mode": {
    "name": "ipython",
    "version": 2
   },
   "file_extension": ".py",
   "mimetype": "text/x-python",
   "name": "python",
   "nbconvert_exporter": "python",
   "pygments_lexer": "ipython2",
   "version": "2.7.6"
  }
 },
 "nbformat": 4,
 "nbformat_minor": 0
}
